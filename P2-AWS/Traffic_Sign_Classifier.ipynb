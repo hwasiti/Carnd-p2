{
 "cells": [
  {
   "cell_type": "markdown",
   "metadata": {
    "deletable": true,
    "editable": true
   },
   "source": [
    "# Self-Driving Car Engineer Nanodegree\n",
    "\n",
    "## Deep Learning\n",
    "\n",
    "## Project: Build a Traffic Sign Recognition Classifier\n",
    "\n",
    "\n",
    "In this notebook, a template is provided for you to implement your functionality in stages, which is required to successfully complete this project. If additional code is required that cannot be included in the notebook, be sure that the Python code is successfully imported and included in your submission if necessary. \n",
    "\n",
    "> **Note**: Once you have completed all of the code implementations, you need to finalize your work by exporting the iPython Notebook as an HTML document. Before exporting the notebook to html, all of the code cells need to have been run so that reviewers can see the final implementation and output. You can then export the notebook by using the menu above and navigating to  \\n\",\n",
    "    \"**File -> Download as -> HTML (.html)**. Include the finished document along with this notebook as your submission. \n",
    "\n",
    "In addition to implementing code, there is a writeup to complete. The writeup should be completed in a separate file, which can be either a markdown file or a pdf document. There is a [write up template](https://github.com/udacity/CarND-Traffic-Sign-Classifier-Project/blob/master/writeup_template.md) that can be used to guide the writing process. Completing the code template and writeup template will cover all of the [rubric points](https://review.udacity.com/#!/rubrics/481/view) for this project.\n",
    "\n",
    "The [rubric](https://review.udacity.com/#!/rubrics/481/view) contains \"Stand Out Suggestions\" for enhancing the project beyond the minimum requirements. The stand out suggestions are optional. If you decide to pursue the \"stand out suggestions\", you can include the code in this Ipython notebook and also discuss the results in the writeup file.\n",
    "\n",
    "\n",
    ">**Note:** Code and Markdown cells can be executed using the **Shift + Enter** keyboard shortcut. In addition, Markdown cells can be edited by typically double-clicking the cell to enter edit mode."
   ]
  },
  {
   "cell_type": "markdown",
   "metadata": {
    "deletable": true,
    "editable": true
   },
   "source": [
    "---\n",
    "## Step 0: Load The Data"
   ]
  },
  {
   "cell_type": "code",
   "execution_count": 1,
   "metadata": {
    "collapsed": false,
    "deletable": true,
    "editable": true
   },
   "outputs": [],
   "source": [
    "# Load pickled data\n",
    "import pickle\n",
    "import cv2\n",
    "\n",
    "# TODO: Fill this in based on where you saved the training and testing data\n",
    "\n",
    "training_file = 'train.p'\n",
    "validation_file= 'valid.p'\n",
    "testing_file = 'test.p'\n",
    "\n",
    "with open(training_file, mode='rb') as f:\n",
    "    train = pickle.load(f)\n",
    "with open(validation_file, mode='rb') as f:\n",
    "    valid = pickle.load(f)\n",
    "with open(testing_file, mode='rb') as f:\n",
    "    test = pickle.load(f)\n",
    "    \n",
    "X_train, y_train = train['features'], train['labels']\n",
    "X_valid, y_valid = valid['features'], valid['labels']\n",
    "X_test, y_test = test['features'], test['labels']"
   ]
  },
  {
   "cell_type": "markdown",
   "metadata": {
    "deletable": true,
    "editable": true
   },
   "source": [
    "---\n",
    "\n",
    "## Step 1: Dataset Summary & Exploration\n",
    "\n",
    "The pickled data is a dictionary with 4 key/value pairs:\n",
    "\n",
    "- `'features'` is a 4D array containing raw pixel data of the traffic sign images, (num examples, width, height, channels).\n",
    "- `'labels'` is a 1D array containing the label/class id of the traffic sign. The file `signnames.csv` contains id -> name mappings for each id.\n",
    "- `'sizes'` is a list containing tuples, (width, height) representing the original width and height the image.\n",
    "- `'coords'` is a list containing tuples, (x1, y1, x2, y2) representing coordinates of a bounding box around the sign in the image. **THESE COORDINATES ASSUME THE ORIGINAL IMAGE. THE PICKLED DATA CONTAINS RESIZED VERSIONS (32 by 32) OF THESE IMAGES**\n",
    "\n",
    "Complete the basic data summary below. Use python, numpy and/or pandas methods to calculate the data summary rather than hard coding the results. For example, the [pandas shape method](http://pandas.pydata.org/pandas-docs/stable/generated/pandas.DataFrame.shape.html) might be useful for calculating some of the summary results. "
   ]
  },
  {
   "cell_type": "markdown",
   "metadata": {
    "deletable": true,
    "editable": true
   },
   "source": [
    "### Provide a Basic Summary of the Data Set Using Python, Numpy and/or Pandas"
   ]
  },
  {
   "cell_type": "code",
   "execution_count": 2,
   "metadata": {
    "collapsed": false,
    "deletable": true,
    "editable": true
   },
   "outputs": [
    {
     "name": "stdout",
     "output_type": "stream",
     "text": [
      "Number of training examples = 34799\n",
      "Number of validation examples = 4410\n",
      "Number of testing examples = 12630\n",
      "Image data shape = (32, 32)\n",
      "Number of classes = 43\n"
     ]
    }
   ],
   "source": [
    "### Replace each question mark with the appropriate value. \n",
    "### Use python, pandas or numpy methods rather than hard coding the results\n",
    "\n",
    "import numpy as np\n",
    "\n",
    "# TODO: Number of training examples\n",
    "n_train = X_train.shape[0]\n",
    "\n",
    "# TODO: Number of validation examples\n",
    "n_valid = X_valid.shape[0]\n",
    "\n",
    "# TODO: Number of testing examples.\n",
    "n_test = X_test.shape[0]\n",
    "\n",
    "# TODO: What's the shape of an traffic sign image?\n",
    "image_shape = X_train.shape[1:3]\n",
    "\n",
    "# TODO: How many unique classes/labels there are in the dataset.\n",
    "n_classes = len(np.unique(y_train))\n",
    "\n",
    "print(\"Number of training examples =\", n_train)\n",
    "print(\"Number of validation examples =\", n_valid)\n",
    "print(\"Number of testing examples =\", n_test)\n",
    "print(\"Image data shape =\", image_shape)\n",
    "print(\"Number of classes =\", n_classes)"
   ]
  },
  {
   "cell_type": "markdown",
   "metadata": {},
   "source": [
    "### Histograms showing the number of images for each of the class labels"
   ]
  },
  {
   "cell_type": "code",
   "execution_count": 37,
   "metadata": {
    "collapsed": false
   },
   "outputs": [
    {
     "data": {
      "image/png": "[encoded data removed]",
      "text/plain": [
       "<matplotlib.figure.Figure at 0x182bbe45cc0>"
      ]
     },
     "metadata": {},
     "output_type": "display_data"
    }
   ],
   "source": [
    "\n",
    "import matplotlib.pyplot as plt\n",
    "import csv\n",
    "%matplotlib inline\n",
    "\n",
    "# read csv for sign names\n",
    "sign_names = []\n",
    "with open('signnames.csv') as signname_file:\n",
    "    signname_file_reader = csv.DictReader(signname_file)\n",
    "    sign_names = [row['SignName'] for row in signname_file_reader]\n",
    "\n",
    "x_axs = range(n_classes)\n",
    "# If we want to include the validation set as part of the training set do:\n",
    "# train_classes_count = [np.count_nonzero(np.append(y_train , y_valid) == x) for x in range(n_classes)]\n",
    "\n",
    "train_classes_count = [np.count_nonzero(y_train == x) for x in range(n_classes)]\n",
    "test_classes_count = [np.count_nonzero(y_test == x) for x in range(n_classes)]\n",
    "\n",
    "plt.figure(figsize=(15,7))\n",
    "\n",
    "plt.bar(x_axs, train_classes_count, color = 'b',  align='center' , label='training data')\n",
    "plt.bar(x_axs, test_classes_count, color = 'g',  bottom = train_classes_count, label='testing data')\n",
    "plt.xticks(x_axs, sign_names, rotation='vertical')\n",
    "plt.legend(loc='upper center')\n",
    "plt.show()"
   ]
  },
  {
   "cell_type": "code",
   "execution_count": 12,
   "metadata": {
    "collapsed": false
   },
   "outputs": [
    {
     "data": {
      "text/plain": [
       "(34799,)"
      ]
     },
     "execution_count": 12,
     "metadata": {},
     "output_type": "execute_result"
    }
   ],
   "source": [
    "y_train.shape"
   ]
  },
  {
   "cell_type": "code",
   "execution_count": 13,
   "metadata": {
    "collapsed": false
   },
   "outputs": [
    {
     "data": {
      "text/plain": [
       "(4410,)"
      ]
     },
     "execution_count": 13,
     "metadata": {},
     "output_type": "execute_result"
    }
   ],
   "source": [
    "y_valid.shape"
   ]
  },
  {
   "cell_type": "markdown",
   "metadata": {
    "deletable": true,
    "editable": true
   },
   "source": [
    "### Include an exploratory visualization of the dataset"
   ]
  },
  {
   "cell_type": "markdown",
   "metadata": {
    "deletable": true,
    "editable": true
   },
   "source": [
    "Visualize the German Traffic Signs Dataset using the pickled file(s). This is open ended, suggestions include: plotting traffic sign images, plotting the count of each sign, etc.\n",
    "\n",
    "The [Matplotlib](http://matplotlib.org/) [examples](http://matplotlib.org/examples/index.html) and [gallery](http://matplotlib.org/gallery.html) pages are a great resource for doing visualizations in Python.\n",
    "\n",
    "**NOTE:** It's recommended you start with something simple first. If you wish to do more, come back to it after you've completed the rest of the sections."
   ]
  },
  {
   "cell_type": "code",
   "execution_count": 3,
   "metadata": {
    "collapsed": false,
    "deletable": true,
    "editable": true
   },
   "outputs": [
    {
     "data": {
      "text/plain": [
       "<function matplotlib.pyplot.show>"
      ]
     },
     "execution_count": 3,
     "metadata": {},
     "output_type": "execute_result"
    },
    {
     "data": {
      "image/png": "[encoded data removed]",
      "text/plain": [
       "<matplotlib.figure.Figure at 0x7fe05fec7518>"
      ]
     },
     "metadata": {},
     "output_type": "display_data"
    }
   ],
   "source": [
    "### Data exploration visualization code goes here.\n",
    "### Feel free to use as many code cells as needed.\n",
    "import matplotlib.pyplot as plt\n",
    "import random\n",
    "# Visualizations will be shown in the notebook.\n",
    "%matplotlib inline\n",
    "\n",
    "# Showing 10 random  traffic sign images and their corresponding image label\n",
    "num_sample = 10\n",
    "\n",
    "# Choose a random image from the training set\n",
    "idx = np.random.randint(0, n_train, num_sample)\n",
    "images = X_train[idx].squeeze()   # squeeze: Remove single-dimensional entries from the shape of an array.\n",
    "labels = y_train[idx]\n",
    "\n",
    "(h, w) = image_shape\n",
    "center = (w / 2, h / 2)\n",
    "\n",
    "    \n",
    "# showing the images\n",
    "plt.rcParams[\"figure.figsize\"] = [15, 5]\n",
    "\n",
    "for i, image in enumerate(images):\n",
    "    plt.subplot(1, num_sample, i+1)\n",
    "    plt.imshow(image)\n",
    "    plt.title('Label: %d' % labels[i])\n",
    "\n",
    "plt.tight_layout()\n",
    "plt.show\n"
   ]
  },
  {
   "cell_type": "markdown",
   "metadata": {
    "deletable": true,
    "editable": true
   },
   "source": [
    "----\n",
    "\n",
    "## Step 2: Design and Test a Model Architecture\n",
    "\n",
    "Design and implement a deep learning model that learns to recognize traffic signs. Train and test your model on the [German Traffic Sign Dataset](http://benchmark.ini.rub.de/?section=gtsrb&subsection=dataset).\n",
    "\n",
    "The LeNet-5 implementation shown in the [classroom](https://classroom.udacity.com/nanodegrees/nd013/parts/fbf77062-5703-404e-b60c-95b78b2f3f9e/modules/6df7ae49-c61c-4bb2-a23e-6527e69209ec/lessons/601ae704-1035-4287-8b11-e2c2716217ad/concepts/d4aca031-508f-4e0b-b493-e7b706120f81) at the end of the CNN lesson is a solid starting point. You'll have to change the number of classes and possibly the preprocessing, but aside from that it's plug and play! \n",
    "\n",
    "With the LeNet-5 solution from the lecture, you should expect a validation set accuracy of about 0.89. To meet specifications, the validation set accuracy will need to be at least 0.93. It is possible to get an even higher accuracy, but 0.93 is the minimum for a successful project submission. \n",
    "\n",
    "There are various aspects to consider when thinking about this problem:\n",
    "\n",
    "- Neural network architecture (is the network over or underfitting?)\n",
    "- Play around preprocessing techniques (normalization, rgb to grayscale, etc)\n",
    "- Number of examples per label (some have more than others).\n",
    "- Generate fake data.\n",
    "\n",
    "Here is an example of a [published baseline model on this problem](http://yann.lecun.com/exdb/publis/pdf/sermanet-ijcnn-11.pdf). It's not required to be familiar with the approach used in the paper but, it's good practice to try to read papers like these."
   ]
  },
  {
   "cell_type": "code",
   "execution_count": 4,
   "metadata": {
    "collapsed": false,
    "deletable": true,
    "editable": true
   },
   "outputs": [],
   "source": [
    "### Pre-process the Data Set (normalization, grayscale, etc.)\n",
    "\n",
    "### Use the code cell (or multiple code cells, if necessary) to implement the first step of your project.\n",
    "\n",
    "### Preprocess the data here. Preprocessing steps could include normalization, converting to grayscale, etc.\n",
    "### Feel free to use as many code cells as needed.\n",
    "\n",
    "import numpy as np\n",
    "from sklearn.utils import shuffle\n",
    "\n",
    "    \n",
    "M_ccw = cv2.getRotationMatrix2D(center, 15, 1.0)\n",
    "M_cw = cv2.getRotationMatrix2D(center, -15, 1.0)\n",
    "\n",
    "X_train_augm_ccw = np.array([cv2.warpAffine(image, M_ccw, (w, h)) for image in X_train]) \n",
    "X_train_augm_cw = np.array([cv2.warpAffine(image, M_cw, (w, h)) for image in X_train])\n",
    "X_train = np.vstack((X_train, X_train_augm_ccw, X_train_augm_cw))  \n",
    "\n",
    "#for i in range(n_train):\n",
    "#    X_train = np.vstack((X_train,[cv2.warpAffine(X_train[i], M_ccw, (w, h))]))\n",
    "\n",
    "y_train = np.hstack((y_train, y_train, y_train))    \n",
    "    \n",
    "X_train, y_train = shuffle(X_train, y_train) \n",
    "\n"
   ]
  },
  {
   "cell_type": "code",
   "execution_count": 5,
   "metadata": {
    "collapsed": true,
    "deletable": true,
    "editable": true
   },
   "outputs": [],
   "source": [
    "\n",
    "def preprocess(images):\n",
    "    images = (images / 255.) - 0.5\n",
    "    return images\n",
    "\n",
    "def unpreprocess(images):\n",
    "    images = np.uint8(images * 255. + 255. / 2.)\n",
    "    return images"
   ]
  },
  {
   "cell_type": "code",
   "execution_count": 6,
   "metadata": {
    "collapsed": false,
    "deletable": true,
    "editable": true
   },
   "outputs": [],
   "source": [
    "X_train = preprocess(X_train)\n",
    "X_valid = preprocess(X_valid)\n",
    "X_test = preprocess(X_test)"
   ]
  },
  {
   "cell_type": "code",
   "execution_count": 7,
   "metadata": {
    "collapsed": false,
    "deletable": true,
    "editable": true
   },
   "outputs": [
    {
     "name": "stdout",
     "output_type": "stream",
     "text": [
      "Number of training examples after data augmentation = 104397\n"
     ]
    }
   ],
   "source": [
    "n_train = X_train.shape[0]\n",
    "\n",
    "print(\"Number of training examples after data augmentation =\", n_train)\n"
   ]
  },
  {
   "cell_type": "markdown",
   "metadata": {
    "deletable": true,
    "editable": true
   },
   "source": [
    "### Model Architecture:\n",
    "### a. Setup TensorFlow"
   ]
  },
  {
   "cell_type": "code",
   "execution_count": 8,
   "metadata": {
    "collapsed": true,
    "deletable": true,
    "editable": true
   },
   "outputs": [],
   "source": [
    "### Define your architecture here.\n",
    "### Feel free to use as many code cells as needed.\n",
    "\n",
    "import tensorflow as tf\n",
    "\n",
    "EPOCHS = 100\n",
    "BATCH_SIZE = 128"
   ]
  },
  {
   "cell_type": "markdown",
   "metadata": {
    "deletable": true,
    "editable": true
   },
   "source": [
    "### b.  Implement LeNet-5\n",
    "Implement the [LeNet-5](http://yann.lecun.com/exdb/lenet/) neural network architecture.\n",
    "\n",
    "### Input\n",
    "The LeNet architecture accepts a 32x32xC image as input, where C is the number of color channels which are 3 in our case. \n",
    "\n",
    "### Architecture\n",
    "**Layer 1: Convolutional.** The output shape should be 28x28x18.\n",
    "\n",
    "**Activation.** ReLu activation function.\n",
    "\n",
    "**Pooling.** The output shape should be 14x14x18.\n",
    "\n",
    "**Layer 2: Convolutional.** The output shape should be 10x10x48.\n",
    "\n",
    "**Activation.** ReLu activation function.\n",
    "\n",
    "**Pooling.** The output shape should be 5x5x48.\n",
    "\n",
    "**Flatten.** Flatten the output shape of the final pooling layer such that it's 1D instead of 3D. The easiest way to do is by using `tf.contrib.layers.flatten`, which is already imported. This will yield 1200x1 outputs.\n",
    "\n",
    "**Layer 3: Fully Connected.** This should have 360 outputs.\n",
    "\n",
    "**Activation.** ReLu activation function.\n",
    "\n",
    "**Layer 4: Fully Connected.** This should have 172 outputs.\n",
    "\n",
    "**Activation.** ReLu activation function.\n",
    "\n",
    "**Layer 5: Fully Connected (Logits).** This should have 43 outputs.\n",
    "\n",
    "### Output\n",
    "Return the result of the 2nd fully connected layer."
   ]
  },
  {
   "cell_type": "code",
   "execution_count": 9,
   "metadata": {
    "collapsed": true,
    "deletable": true,
    "editable": true
   },
   "outputs": [],
   "source": [
    "from tensorflow.contrib.layers import flatten\n",
    "\n",
    "def LeNet(x):    \n",
    "    # Arguments used for tf.truncated_normal, randomly defines variables for the weights and biases for each layer\n",
    "    mu = 0\n",
    "    sigma = 0.1\n",
    "    # dropout = 0.9  # Dropout, probability to keep units\n",
    "    \n",
    "    # SOLUTION: Layer 1: Convolutional. Input = 32x32x3. Output = 28x28x18.\n",
    "    conv1_W = tf.Variable(tf.truncated_normal(shape=(5, 5, 3, 18), mean = mu, stddev = sigma))\n",
    "    conv1_b = tf.Variable(tf.zeros(18))\n",
    "    conv1   = tf.nn.conv2d(x, conv1_W, strides=[1, 1, 1, 1], padding='VALID') + conv1_b\n",
    "\n",
    "    # SOLUTION: Activation.\n",
    "    conv1 = tf.nn.relu(conv1)\n",
    "    # conv1    = tf.nn.dropout(conv1, dropout)\n",
    "    \n",
    "    # SOLUTION: Pooling. Input = 28x28x18. Output = 14x14x18.\n",
    "    conv1 = tf.nn.avg_pool(conv1, ksize=[1, 2, 2, 1], strides=[1, 2, 2, 1], padding='VALID')\n",
    "\n",
    "    # SOLUTION: Layer 2: Convolutional. Input = 14x14x18. Output = 10x10x48.\n",
    "    conv2_W = tf.Variable(tf.truncated_normal(shape=(5, 5, 18, 48), mean = mu, stddev = sigma))\n",
    "    conv2_b = tf.Variable(tf.zeros(48))\n",
    "    conv2   = tf.nn.conv2d(conv1, conv2_W, strides=[1, 1, 1, 1], padding='VALID') + conv2_b\n",
    "    \n",
    "    # SOLUTION: Activation.\n",
    "    conv2 = tf.nn.relu(conv2)\n",
    "    # conv2    = tf.nn.dropout(conv2, dropout)\n",
    "    \n",
    "    # SOLUTION: Pooling. Input = 10x10x48. Output = 5x5x48.\n",
    "    conv2 = tf.nn.avg_pool(conv2, ksize=[1, 2, 2, 1], strides=[1, 2, 2, 1], padding='VALID')\n",
    "\n",
    "    # SOLUTION: Flatten. Input = 5x5x48. Output = 1200.\n",
    "    fc0   = flatten(conv2)\n",
    "    \n",
    "    # SOLUTION: Layer 3: Fully Connected. Input = 1200. Output = 360.\n",
    "    fc1_W = tf.Variable(tf.truncated_normal(shape=(1200, 360), mean = mu, stddev = sigma))\n",
    "    fc1_b = tf.Variable(tf.zeros(360))\n",
    "    fc1   = tf.matmul(fc0, fc1_W) + fc1_b\n",
    "    \n",
    "    # SOLUTION: Activation and Dropout\n",
    "    fc1    = tf.nn.relu(fc1)\n",
    "    # fc1    = tf.nn.dropout(fc1, dropout)\n",
    "\n",
    "    # SOLUTION: Layer 4: Fully Connected. Input = 360. Output = 172.\n",
    "    fc2_W  = tf.Variable(tf.truncated_normal(shape=(360,172), mean = mu, stddev = sigma))\n",
    "    fc2_b  = tf.Variable(tf.zeros(172))\n",
    "    fc2    = tf.matmul(fc1, fc2_W) + fc2_b\n",
    "    \n",
    "    # SOLUTION: Activation and Dropout\n",
    "    fc2    = tf.nn.relu(fc2)\n",
    "    # fc2    = tf.nn.dropout(fc2, dropout)\n",
    "\n",
    "    # SOLUTION: Layer 5: Fully Connected. Input = 172. Output = 43.\n",
    "    fc3_W  = tf.Variable(tf.truncated_normal(shape=(172, 43), mean = mu, stddev = sigma))\n",
    "    fc3_b  = tf.Variable(tf.zeros(43))\n",
    "    logits = tf.matmul(fc2, fc3_W) + fc3_b\n",
    "    \n",
    "    return logits"
   ]
  },
  {
   "cell_type": "markdown",
   "metadata": {
    "deletable": true,
    "editable": true
   },
   "source": [
    "### c. Features and Labels\n",
    "Train LeNet to classify Traffic sign data.\n",
    "\n",
    "`x` is a placeholder for a batch of input images.\n",
    "`y` is a placeholder for a batch of output labels.\n"
   ]
  },
  {
   "cell_type": "code",
   "execution_count": 10,
   "metadata": {
    "collapsed": true,
    "deletable": true,
    "editable": true
   },
   "outputs": [],
   "source": [
    "x = tf.placeholder(tf.float32, (None, 32, 32, 3))\n",
    "y = tf.placeholder(tf.int32, (None))\n",
    "one_hot_y = tf.one_hot(y, 43)"
   ]
  },
  {
   "cell_type": "markdown",
   "metadata": {
    "deletable": true,
    "editable": true
   },
   "source": [
    "### Train, Validate and Test the Model:\n",
    "### a. Training Pipeline\n"
   ]
  },
  {
   "cell_type": "markdown",
   "metadata": {
    "deletable": true,
    "editable": true
   },
   "source": [
    "A validation set can be used to assess how well the model is performing. A low accuracy on the training and validation\n",
    "sets imply underfitting. A high accuracy on the training set but low accuracy on the validation set implies overfitting."
   ]
  },
  {
   "cell_type": "code",
   "execution_count": 11,
   "metadata": {
    "collapsed": false,
    "deletable": true,
    "editable": true
   },
   "outputs": [],
   "source": [
    "### Train your model here.\n",
    "### Calculate and report the accuracy on the training and validation set.\n",
    "### Once a final model architecture is selected, \n",
    "### the accuracy on the test set should be calculated and reported as well.\n",
    "### Feel free to use as many code cells as needed.\n",
    "\n",
    "# The rate at the 1st 20 epochs = 0.01 , from epoch 20 to 80 the rate = 0.001 \n",
    "# from epoch 80 to 100 the rate = 0.0001\n",
    "rate = 0.001\n",
    "\n",
    "logits = LeNet(x)\n",
    "cross_entropy = tf.nn.softmax_cross_entropy_with_logits(logits, one_hot_y)\n",
    "loss_operation = tf.reduce_mean(cross_entropy)\n",
    "optimizer = tf.train.AdamOptimizer(learning_rate = rate)\n",
    "training_operation = optimizer.minimize(loss_operation)"
   ]
  },
  {
   "cell_type": "markdown",
   "metadata": {
    "deletable": true,
    "editable": true
   },
   "source": [
    "### b. Model Evaluation\n",
    "Evaluate how well the loss and accuracy of the model for a given dataset."
   ]
  },
  {
   "cell_type": "code",
   "execution_count": 12,
   "metadata": {
    "collapsed": true,
    "deletable": true,
    "editable": true
   },
   "outputs": [],
   "source": [
    "inference_operation = tf.argmax(logits, 1)\n",
    "correct_prediction = tf.equal(tf.argmax(logits, 1), tf.argmax(one_hot_y, 1))\n",
    "accuracy_operation = tf.reduce_mean(tf.cast(correct_prediction, tf.float32))\n",
    "saver = tf.train.Saver()\n",
    "\n",
    "def evaluate(X_data, y_data):\n",
    "    num_examples = len(X_data)\n",
    "    total_accuracy = 0\n",
    "    total_loss = 0\n",
    "    inference_data = np.array([])\n",
    "    sess = tf.get_default_session()\n",
    "    for offset in range(0, num_examples, BATCH_SIZE):\n",
    "        batch_x, batch_y = X_data[offset:offset+BATCH_SIZE], y_data[offset:offset+BATCH_SIZE]\n",
    "        accuracy, loss, inference = sess.run([accuracy_operation, loss_operation, inference_operation], feed_dict={x: batch_x, y: batch_y})\n",
    "        total_accuracy += (accuracy * len(batch_x))\n",
    "        total_loss += (loss * len(batch_x))\n",
    "        inference_data = np.append(inference_data, inference)\n",
    "    return total_accuracy / num_examples, total_loss / num_examples, inference_data"
   ]
  },
  {
   "cell_type": "markdown",
   "metadata": {
    "deletable": true,
    "editable": true
   },
   "source": [
    "### c. Train the Model\n",
    "Run the training data through the training pipeline to train the model.\n",
    "\n",
    "Before each epoch, shuffle the training set.\n",
    "\n",
    "After each epoch, measure the loss and accuracy of the validation set.\n",
    "\n",
    "Save the model after training.\n",
    "\n",
    "You do not need to modify this section."
   ]
  },
  {
   "cell_type": "code",
   "execution_count": 13,
   "metadata": {
    "collapsed": false,
    "deletable": true,
    "editable": true,
    "scrolled": true
   },
   "outputs": [
    {
     "name": "stdout",
     "output_type": "stream",
     "text": [
      "Training...\n",
      "\n",
      "EPOCH 1 ...\n",
      "Training Accuracy = 0.961 , Validation Accuracy = 0.883\n",
      "Training Loss = 0.142 , Validation Loss = 0.430\n",
      "\n",
      "EPOCH 2 ...\n",
      "Training Accuracy = 0.984 , Validation Accuracy = 0.906\n",
      "Training Loss = 0.063 , Validation Loss = 0.428\n",
      "\n",
      "EPOCH 3 ...\n",
      "Training Accuracy = 0.990 , Validation Accuracy = 0.923\n",
      "Training Loss = 0.036 , Validation Loss = 0.300\n",
      "\n",
      "EPOCH 4 ...\n",
      "Training Accuracy = 0.989 , Validation Accuracy = 0.909\n",
      "Training Loss = 0.038 , Validation Loss = 0.346\n",
      "\n",
      "EPOCH 5 ...\n",
      "Training Accuracy = 0.994 , Validation Accuracy = 0.918\n",
      "Training Loss = 0.030 , Validation Loss = 0.317\n",
      "\n",
      "EPOCH 6 ...\n",
      "Training Accuracy = 0.996 , Validation Accuracy = 0.938\n",
      "Training Loss = 0.011 , Validation Loss = 0.332\n",
      "\n",
      "EPOCH 7 ...\n",
      "Training Accuracy = 0.997 , Validation Accuracy = 0.928\n",
      "Training Loss = 0.010 , Validation Loss = 0.364\n",
      "\n",
      "EPOCH 8 ...\n",
      "Training Accuracy = 0.997 , Validation Accuracy = 0.925\n",
      "Training Loss = 0.012 , Validation Loss = 0.464\n",
      "\n",
      "EPOCH 9 ...\n",
      "Training Accuracy = 0.994 , Validation Accuracy = 0.917\n",
      "Training Loss = 0.018 , Validation Loss = 0.441\n",
      "\n",
      "EPOCH 10 ...\n",
      "Training Accuracy = 0.992 , Validation Accuracy = 0.926\n",
      "Training Loss = 0.025 , Validation Loss = 0.393\n",
      "\n",
      "EPOCH 11 ...\n",
      "Training Accuracy = 0.993 , Validation Accuracy = 0.927\n",
      "Training Loss = 0.021 , Validation Loss = 0.403\n",
      "\n",
      "EPOCH 12 ...\n",
      "Training Accuracy = 0.996 , Validation Accuracy = 0.939\n",
      "Training Loss = 0.014 , Validation Loss = 0.430\n",
      "\n",
      "EPOCH 13 ...\n",
      "Training Accuracy = 0.997 , Validation Accuracy = 0.933\n",
      "Training Loss = 0.009 , Validation Loss = 0.412\n",
      "\n",
      "EPOCH 14 ...\n",
      "Training Accuracy = 0.996 , Validation Accuracy = 0.932\n",
      "Training Loss = 0.010 , Validation Loss = 0.394\n",
      "\n",
      "EPOCH 15 ...\n",
      "Training Accuracy = 0.997 , Validation Accuracy = 0.939\n",
      "Training Loss = 0.009 , Validation Loss = 0.419\n",
      "\n",
      "EPOCH 16 ...\n",
      "Training Accuracy = 1.000 , Validation Accuracy = 0.948\n",
      "Training Loss = 0.001 , Validation Loss = 0.342\n",
      "\n",
      "EPOCH 17 ...\n",
      "Training Accuracy = 0.997 , Validation Accuracy = 0.928\n",
      "Training Loss = 0.009 , Validation Loss = 0.818\n",
      "\n",
      "EPOCH 18 ...\n",
      "Training Accuracy = 0.997 , Validation Accuracy = 0.947\n",
      "Training Loss = 0.023 , Validation Loss = 0.356\n",
      "\n",
      "EPOCH 19 ...\n",
      "Training Accuracy = 0.996 , Validation Accuracy = 0.912\n",
      "Training Loss = 0.015 , Validation Loss = 0.841\n",
      "\n",
      "EPOCH 20 ...\n",
      "Training Accuracy = 0.999 , Validation Accuracy = 0.947\n",
      "Training Loss = 0.005 , Validation Loss = 0.355\n",
      "\n",
      "EPOCH 21 ...\n",
      "Training Accuracy = 1.000 , Validation Accuracy = 0.963\n",
      "Training Loss = 0.001 , Validation Loss = 0.289\n",
      "\n",
      "EPOCH 22 ...\n",
      "Training Accuracy = 0.998 , Validation Accuracy = 0.956\n",
      "Training Loss = 0.008 , Validation Loss = 0.379\n",
      "\n",
      "EPOCH 23 ...\n",
      "Training Accuracy = 1.000 , Validation Accuracy = 0.957\n",
      "Training Loss = 0.001 , Validation Loss = 0.427\n",
      "\n",
      "EPOCH 24 ...\n",
      "Training Accuracy = 0.999 , Validation Accuracy = 0.952\n",
      "Training Loss = 0.002 , Validation Loss = 0.536\n",
      "\n",
      "EPOCH 25 ...\n",
      "Training Accuracy = 0.998 , Validation Accuracy = 0.944\n",
      "Training Loss = 0.006 , Validation Loss = 0.601\n",
      "\n",
      "EPOCH 26 ...\n",
      "Training Accuracy = 0.998 , Validation Accuracy = 0.928\n",
      "Training Loss = 0.008 , Validation Loss = 0.681\n",
      "\n",
      "EPOCH 27 ...\n",
      "Training Accuracy = 0.999 , Validation Accuracy = 0.945\n",
      "Training Loss = 0.002 , Validation Loss = 0.581\n",
      "\n",
      "EPOCH 28 ...\n",
      "Training Accuracy = 0.998 , Validation Accuracy = 0.934\n",
      "Training Loss = 0.009 , Validation Loss = 0.616\n",
      "\n",
      "EPOCH 29 ...\n",
      "Training Accuracy = 0.999 , Validation Accuracy = 0.934\n",
      "Training Loss = 0.004 , Validation Loss = 0.643\n",
      "\n",
      "EPOCH 30 ...\n",
      "Training Accuracy = 0.996 , Validation Accuracy = 0.941\n",
      "Training Loss = 0.013 , Validation Loss = 0.483\n",
      "\n",
      "EPOCH 31 ...\n",
      "Training Accuracy = 0.999 , Validation Accuracy = 0.942\n",
      "Training Loss = 0.003 , Validation Loss = 0.709\n",
      "\n",
      "EPOCH 32 ...\n",
      "Training Accuracy = 0.998 , Validation Accuracy = 0.939\n",
      "Training Loss = 0.006 , Validation Loss = 0.913\n",
      "\n",
      "EPOCH 33 ...\n",
      "Training Accuracy = 0.999 , Validation Accuracy = 0.946\n",
      "Training Loss = 0.004 , Validation Loss = 0.715\n",
      "\n",
      "EPOCH 34 ...\n",
      "Training Accuracy = 0.998 , Validation Accuracy = 0.935\n",
      "Training Loss = 0.009 , Validation Loss = 0.675\n",
      "\n",
      "EPOCH 35 ...\n",
      "Training Accuracy = 0.998 , Validation Accuracy = 0.954\n",
      "Training Loss = 0.008 , Validation Loss = 0.509\n",
      "\n",
      "EPOCH 36 ...\n",
      "Training Accuracy = 0.999 , Validation Accuracy = 0.960\n",
      "Training Loss = 0.004 , Validation Loss = 0.483\n",
      "\n",
      "EPOCH 37 ...\n",
      "Training Accuracy = 1.000 , Validation Accuracy = 0.953\n",
      "Training Loss = 0.001 , Validation Loss = 0.589\n",
      "\n",
      "EPOCH 38 ...\n",
      "Training Accuracy = 0.994 , Validation Accuracy = 0.947\n",
      "Training Loss = 0.030 , Validation Loss = 0.627\n",
      "\n",
      "EPOCH 39 ...\n",
      "Training Accuracy = 0.998 , Validation Accuracy = 0.944\n",
      "Training Loss = 0.009 , Validation Loss = 0.565\n",
      "\n",
      "EPOCH 40 ...\n",
      "Training Accuracy = 1.000 , Validation Accuracy = 0.966\n",
      "Training Loss = 0.001 , Validation Loss = 0.404\n",
      "\n",
      "EPOCH 41 ...\n",
      "Training Accuracy = 1.000 , Validation Accuracy = 0.963\n",
      "Training Loss = 0.002 , Validation Loss = 0.412\n",
      "\n",
      "EPOCH 42 ...\n",
      "Training Accuracy = 0.999 , Validation Accuracy = 0.958\n",
      "Training Loss = 0.002 , Validation Loss = 0.723\n",
      "\n",
      "EPOCH 43 ...\n",
      "Training Accuracy = 0.999 , Validation Accuracy = 0.961\n",
      "Training Loss = 0.003 , Validation Loss = 0.468\n",
      "\n",
      "EPOCH 44 ...\n",
      "Training Accuracy = 0.999 , Validation Accuracy = 0.957\n",
      "Training Loss = 0.003 , Validation Loss = 0.523\n",
      "\n",
      "EPOCH 45 ...\n",
      "Training Accuracy = 1.000 , Validation Accuracy = 0.954\n",
      "Training Loss = 0.001 , Validation Loss = 0.573\n",
      "\n",
      "EPOCH 46 ...\n",
      "Training Accuracy = 0.999 , Validation Accuracy = 0.954\n",
      "Training Loss = 0.003 , Validation Loss = 0.559\n",
      "\n",
      "EPOCH 47 ...\n",
      "Training Accuracy = 0.999 , Validation Accuracy = 0.960\n",
      "Training Loss = 0.005 , Validation Loss = 0.433\n",
      "\n",
      "EPOCH 48 ...\n",
      "Training Accuracy = 1.000 , Validation Accuracy = 0.952\n",
      "Training Loss = 0.001 , Validation Loss = 0.499\n",
      "\n",
      "EPOCH 49 ...\n",
      "Training Accuracy = 1.000 , Validation Accuracy = 0.954\n",
      "Training Loss = 0.001 , Validation Loss = 0.622\n",
      "\n",
      "EPOCH 50 ...\n",
      "Training Accuracy = 0.999 , Validation Accuracy = 0.949\n",
      "Training Loss = 0.003 , Validation Loss = 0.617\n",
      "\n",
      "EPOCH 51 ...\n",
      "Training Accuracy = 0.998 , Validation Accuracy = 0.945\n",
      "Training Loss = 0.011 , Validation Loss = 0.673\n",
      "\n",
      "EPOCH 52 ...\n",
      "Training Accuracy = 1.000 , Validation Accuracy = 0.961\n",
      "Training Loss = 0.001 , Validation Loss = 0.473\n",
      "\n",
      "EPOCH 53 ...\n",
      "Training Accuracy = 1.000 , Validation Accuracy = 0.949\n",
      "Training Loss = 0.002 , Validation Loss = 0.821\n",
      "\n",
      "EPOCH 54 ...\n",
      "Training Accuracy = 0.998 , Validation Accuracy = 0.947\n",
      "Training Loss = 0.008 , Validation Loss = 0.485\n",
      "\n",
      "EPOCH 55 ...\n",
      "Training Accuracy = 0.999 , Validation Accuracy = 0.963\n",
      "Training Loss = 0.006 , Validation Loss = 0.333\n",
      "\n",
      "EPOCH 56 ...\n",
      "Training Accuracy = 1.000 , Validation Accuracy = 0.956\n",
      "Training Loss = 0.002 , Validation Loss = 0.649\n",
      "\n",
      "EPOCH 57 ...\n",
      "Training Accuracy = 0.999 , Validation Accuracy = 0.956\n",
      "Training Loss = 0.003 , Validation Loss = 0.680\n",
      "\n",
      "EPOCH 58 ...\n",
      "Training Accuracy = 0.994 , Validation Accuracy = 0.934\n",
      "Training Loss = 0.024 , Validation Loss = 0.707\n",
      "\n",
      "EPOCH 59 ...\n",
      "Training Accuracy = 1.000 , Validation Accuracy = 0.959\n",
      "Training Loss = 0.000 , Validation Loss = 0.513\n",
      "\n",
      "EPOCH 60 ...\n",
      "Training Accuracy = 0.999 , Validation Accuracy = 0.954\n",
      "Training Loss = 0.003 , Validation Loss = 0.610\n",
      "\n",
      "EPOCH 61 ...\n",
      "Training Accuracy = 0.999 , Validation Accuracy = 0.950\n",
      "Training Loss = 0.006 , Validation Loss = 0.656\n",
      "\n",
      "EPOCH 62 ...\n",
      "Training Accuracy = 1.000 , Validation Accuracy = 0.954\n",
      "Training Loss = 0.002 , Validation Loss = 0.737\n",
      "\n",
      "EPOCH 63 ...\n",
      "Training Accuracy = 1.000 , Validation Accuracy = 0.957\n",
      "Training Loss = 0.001 , Validation Loss = 0.786\n",
      "\n",
      "EPOCH 64 ...\n",
      "Training Accuracy = 1.000 , Validation Accuracy = 0.954\n",
      "Training Loss = 0.001 , Validation Loss = 0.804\n",
      "\n",
      "EPOCH 65 ...\n",
      "Training Accuracy = 1.000 , Validation Accuracy = 0.955\n",
      "Training Loss = 0.001 , Validation Loss = 0.741\n",
      "\n",
      "EPOCH 66 ...\n",
      "Training Accuracy = 0.999 , Validation Accuracy = 0.948\n",
      "Training Loss = 0.005 , Validation Loss = 1.128\n",
      "\n",
      "EPOCH 67 ...\n",
      "Training Accuracy = 0.999 , Validation Accuracy = 0.947\n",
      "Training Loss = 0.005 , Validation Loss = 0.959\n",
      "\n",
      "EPOCH 68 ...\n",
      "Training Accuracy = 0.999 , Validation Accuracy = 0.942\n",
      "Training Loss = 0.003 , Validation Loss = 1.085\n",
      "\n",
      "EPOCH 69 ...\n",
      "Training Accuracy = 0.998 , Validation Accuracy = 0.939\n",
      "Training Loss = 0.012 , Validation Loss = 1.033\n",
      "\n",
      "EPOCH 70 ...\n",
      "Training Accuracy = 0.999 , Validation Accuracy = 0.953\n",
      "Training Loss = 0.002 , Validation Loss = 0.932\n",
      "\n",
      "EPOCH 71 ...\n",
      "Training Accuracy = 1.000 , Validation Accuracy = 0.952\n",
      "Training Loss = 0.001 , Validation Loss = 1.157\n",
      "\n",
      "EPOCH 72 ...\n",
      "Training Accuracy = 0.999 , Validation Accuracy = 0.951\n",
      "Training Loss = 0.004 , Validation Loss = 1.300\n",
      "\n",
      "EPOCH 73 ...\n",
      "Training Accuracy = 0.999 , Validation Accuracy = 0.950\n",
      "Training Loss = 0.008 , Validation Loss = 0.942\n",
      "\n",
      "EPOCH 74 ...\n",
      "Training Accuracy = 1.000 , Validation Accuracy = 0.946\n",
      "Training Loss = 0.001 , Validation Loss = 1.185\n",
      "\n",
      "EPOCH 75 ...\n",
      "Training Accuracy = 1.000 , Validation Accuracy = 0.947\n",
      "Training Loss = 0.001 , Validation Loss = 1.157\n",
      "\n",
      "EPOCH 76 ...\n",
      "Training Accuracy = 1.000 , Validation Accuracy = 0.960\n",
      "Training Loss = 0.002 , Validation Loss = 1.195\n",
      "\n",
      "EPOCH 77 ...\n",
      "Training Accuracy = 1.000 , Validation Accuracy = 0.962\n",
      "Training Loss = 0.001 , Validation Loss = 0.725\n",
      "\n",
      "EPOCH 78 ...\n",
      "Training Accuracy = 0.999 , Validation Accuracy = 0.955\n",
      "Training Loss = 0.006 , Validation Loss = 0.782\n",
      "\n",
      "EPOCH 79 ...\n",
      "Training Accuracy = 0.998 , Validation Accuracy = 0.944\n",
      "Training Loss = 0.009 , Validation Loss = 1.014\n",
      "\n",
      "EPOCH 80 ...\n",
      "Training Accuracy = 0.999 , Validation Accuracy = 0.953\n",
      "Training Loss = 0.002 , Validation Loss = 0.925\n",
      "\n",
      "EPOCH 81 ...\n",
      "Training Accuracy = 0.999 , Validation Accuracy = 0.963\n",
      "Training Loss = 0.002 , Validation Loss = 0.956\n",
      "\n",
      "EPOCH 82 ...\n",
      "Training Accuracy = 0.991 , Validation Accuracy = 0.932\n",
      "Training Loss = 0.040 , Validation Loss = 1.595\n",
      "\n",
      "EPOCH 83 ...\n",
      "Training Accuracy = 1.000 , Validation Accuracy = 0.945\n",
      "Training Loss = 0.004 , Validation Loss = 1.165\n",
      "\n",
      "EPOCH 84 ...\n",
      "Training Accuracy = 1.000 , Validation Accuracy = 0.959\n",
      "Training Loss = 0.001 , Validation Loss = 0.681\n",
      "\n",
      "EPOCH 85 ...\n",
      "Training Accuracy = 0.997 , Validation Accuracy = 0.945\n",
      "Training Loss = 0.014 , Validation Loss = 1.373\n",
      "\n",
      "EPOCH 86 ...\n",
      "Training Accuracy = 1.000 , Validation Accuracy = 0.959\n",
      "Training Loss = 0.001 , Validation Loss = 1.205\n",
      "\n",
      "EPOCH 87 ...\n",
      "Training Accuracy = 1.000 , Validation Accuracy = 0.966\n",
      "Training Loss = 0.001 , Validation Loss = 0.972\n",
      "\n",
      "EPOCH 88 ...\n",
      "Training Accuracy = 1.000 , Validation Accuracy = 0.961\n",
      "Training Loss = 0.000 , Validation Loss = 1.199\n",
      "\n",
      "EPOCH 89 ...\n",
      "Training Accuracy = 1.000 , Validation Accuracy = 0.958\n",
      "Training Loss = 0.002 , Validation Loss = 0.888\n",
      "\n",
      "EPOCH 90 ...\n",
      "Training Accuracy = 1.000 , Validation Accuracy = 0.956\n",
      "Training Loss = 0.004 , Validation Loss = 1.275\n",
      "\n",
      "EPOCH 91 ...\n",
      "Training Accuracy = 0.999 , Validation Accuracy = 0.964\n",
      "Training Loss = 0.006 , Validation Loss = 1.966\n",
      "\n",
      "EPOCH 92 ...\n",
      "Training Accuracy = 0.999 , Validation Accuracy = 0.955\n",
      "Training Loss = 0.007 , Validation Loss = 2.312\n",
      "\n",
      "EPOCH 93 ...\n",
      "Training Accuracy = 1.000 , Validation Accuracy = 0.958\n",
      "Training Loss = 0.001 , Validation Loss = 1.721\n",
      "\n",
      "EPOCH 94 ...\n",
      "Training Accuracy = 0.999 , Validation Accuracy = 0.938\n",
      "Training Loss = 0.007 , Validation Loss = 2.147\n",
      "\n",
      "EPOCH 95 ...\n",
      "Training Accuracy = 0.999 , Validation Accuracy = 0.951\n",
      "Training Loss = 0.018 , Validation Loss = 1.594\n",
      "\n",
      "EPOCH 96 ...\n",
      "Training Accuracy = 1.000 , Validation Accuracy = 0.953\n",
      "Training Loss = 0.001 , Validation Loss = 1.501\n",
      "\n",
      "EPOCH 97 ...\n",
      "Training Accuracy = 0.999 , Validation Accuracy = 0.957\n",
      "Training Loss = 0.003 , Validation Loss = 2.099\n",
      "\n",
      "EPOCH 98 ...\n",
      "Training Accuracy = 1.000 , Validation Accuracy = 0.959\n",
      "Training Loss = 0.001 , Validation Loss = 1.687\n",
      "\n",
      "EPOCH 99 ...\n",
      "Training Accuracy = 0.999 , Validation Accuracy = 0.959\n",
      "Training Loss = 0.004 , Validation Loss = 1.593\n",
      "\n",
      "EPOCH 100 ...\n",
      "Training Accuracy = 1.000 , Validation Accuracy = 0.961\n",
      "Training Loss = 0.001 , Validation Loss = 1.370\n",
      "\n",
      "Model saved\n",
      "Accuracy history saved\n"
     ]
    }
   ],
   "source": [
    "accuracy_history =[]\n",
    "\n",
    "with tf.Session() as sess:\n",
    "    sess.run(tf.global_variables_initializer())\n",
    "    num_examples = len(X_train)\n",
    "    \n",
    "    print(\"Training...\")\n",
    "    print()\n",
    "    for i in range(EPOCHS):\n",
    "        # if i%10 == 0:\n",
    "            # rate = rate/10\n",
    "            # optimizer = tf.train.AdamOptimizer(learning_rate = rate)\n",
    "            # print(\"Setting the RATE to {} ...\".format(rate))\n",
    "            \n",
    "        X_train, y_train = shuffle(X_train, y_train)\n",
    "        for offset in range(0, num_examples, BATCH_SIZE):\n",
    "            end = offset + BATCH_SIZE\n",
    "            batch_x, batch_y = X_train[offset:end], y_train[offset:end]\n",
    "            sess.run(training_operation, feed_dict={x: batch_x, y: batch_y})\n",
    "        \n",
    "        training_accuracy, training_loss, _ = evaluate(X_train, y_train) \n",
    "        validation_accuracy, validation_loss, inference_data  = evaluate(X_valid, y_valid)\n",
    "        print(\"EPOCH {} ...\".format(i+1))\n",
    "        print(\"Training Accuracy = {:.3f} , Validation Accuracy = {:.3f}\".format(training_accuracy, validation_accuracy))\n",
    "        print(\"Training Loss = {:.3f} , Validation Loss = {:.3f}\".format(training_loss, validation_loss))\n",
    "        print()\n",
    "        accuracy_history.append((training_accuracy,validation_accuracy))\n",
    "        \n",
    "        \n",
    "    saver.save(sess, './lenet')\n",
    "    print(\"Model saved\")\n",
    "    \n",
    "    # Save accuracy_history to accuracy_history.p\n",
    "    with open('accuracy_history.p', 'wb') as f:\n",
    "                pickle.dump(accuracy_history, f)\n",
    "            \n",
    "    print(\"Accuracy history saved\")"
   ]
  },
  {
   "cell_type": "code",
   "execution_count": 14,
   "metadata": {
    "collapsed": false,
    "deletable": true,
    "editable": true
   },
   "outputs": [
    {
     "data": {
      "text/plain": [
       "<function matplotlib.pyplot.show>"
      ]
     },
     "execution_count": 14,
     "metadata": {},
     "output_type": "execute_result"
    },
    {
     "data": {
      "image/png": "[encoded data removed]",
      "text/plain": [
       "<matplotlib.figure.Figure at 0x7fdffd3cb908>"
      ]
     },
     "metadata": {},
     "output_type": "display_data"
    }
   ],
   "source": [
    "# Plotting Training and Validation accuracy\n",
    "accuracies = np.transpose(np.array(accuracy_history))\n",
    "plt.plot(accuracies[0], 'b') # training accuracy in blue\n",
    "plt.plot(accuracies[1], 'g') # validation accuracy in green\n",
    "plt.xlabel('Epoch')\n",
    "plt.ylabel('Accuracy')\n",
    "plt.title('Blue = training accuracy, Green = Validation accuracy')\n",
    "plt.show\n",
    "\n",
    "\n",
    "\n"
   ]
  },
  {
   "cell_type": "code",
   "execution_count": 15,
   "metadata": {
    "collapsed": false,
    "deletable": true,
    "editable": true
   },
   "outputs": [
    {
     "name": "stdout",
     "output_type": "stream",
     "text": [
      "Test Accuracy = 0.947, Test Loss = 1.779\n"
     ]
    },
    {
     "data": {
      "image/png": "[encoded data removed]",
      "text/plain": [
       "<matplotlib.figure.Figure at 0x7fdffc03ef28>"
      ]
     },
     "metadata": {},
     "output_type": "display_data"
    }
   ],
   "source": [
    "# Evaluate the Test set\n",
    "from sklearn.metrics import confusion_matrix\n",
    "\n",
    "with tf.Session() as sess:\n",
    "    saver.restore(sess, tf.train.latest_checkpoint('.'))\n",
    "    \n",
    "    test_accuracy, test_loss, inference_data = evaluate(X_test, y_test)\n",
    "    print(\"Test Accuracy = {:.3f}, Test Loss = {:.3f}\".format(test_accuracy, test_loss))\n",
    "    \n",
    "    \n",
    "    plt.title('Confusion Matrix')\n",
    "    plt.imshow(confusion_matrix(y_true = y_test,y_pred = inference_data))\n",
    "\n"
   ]
  },
  {
   "cell_type": "markdown",
   "metadata": {
    "deletable": true,
    "editable": true
   },
   "source": [
    "---\n",
    "\n",
    "## Step 3: Test a Model on New Images\n",
    "\n",
    "To give yourself more insight into how your model is working, download at least five pictures of German traffic signs from the web and use your model to predict the traffic sign type.\n",
    "\n",
    "You may find `signnames.csv` useful as it contains mappings from the class id (integer) to the actual sign name."
   ]
  },
  {
   "cell_type": "markdown",
   "metadata": {
    "deletable": true,
    "editable": true
   },
   "source": [
    "### Load and Output the Images and Predict the Sign Type for Each Image"
   ]
  },
  {
   "cell_type": "code",
   "execution_count": 16,
   "metadata": {
    "collapsed": false,
    "deletable": true,
    "editable": true
   },
   "outputs": [
    {
     "name": "stdout",
     "output_type": "stream",
     "text": [
      "Testing 5 new images...\n",
      "Inferred classes: [17 12  9 19 13]\n"
     ]
    },
    {
     "data": {
      "image/png": "[encoded data removed]",
      "text/plain": [
       "<matplotlib.figure.Figure at 0x7fdffd3cb128>"
      ]
     },
     "metadata": {},
     "output_type": "display_data"
    }
   ],
   "source": [
    "import matplotlib.image as mpimg\n",
    "\n",
    "### Load the images and plot them here.\n",
    "### Feel free to use as many code cells as needed.\n",
    "\n",
    "# Plot and preprocess the new images to be tested\n",
    "list_of_new_images = ['GTS0.png', 'GTS1.png', 'GTS2.png', 'GTS3.png', 'GTS4.png' ]\n",
    "new_images = np.array([cv2.cvtColor(cv2.resize(cv2.imread(image),\n",
    "                                               (32,32), interpolation = cv2.INTER_CUBIC), \n",
    "                                    cv2.COLOR_BGR2RGB) for image in list_of_new_images])\n",
    "   \n",
    "\n",
    "#preprocess (normalize range of colors)\n",
    "new_images_preprocessed = preprocess(new_images)\n",
    "\n",
    "\n",
    "with tf.Session() as sess:\n",
    "    print(\"Testing {} new images...\".format(len(new_images)))\n",
    "    \n",
    "    saver.restore(sess, tf.train.latest_checkpoint('.'))\n",
    "        \n",
    "    \n",
    "    # Run inference on CNN to make predictions, and remember the logits for later\n",
    "    \n",
    "    ## lgts = sess.run(logits, feed_dict={x: new_images_preprocessed})\n",
    "    inference = sess.run( inference_operation, feed_dict={x: new_images_preprocessed})\n",
    "    \n",
    "    print(\"Inferred classes:\", inference)\n",
    "\n",
    " \n",
    "\n",
    "count = len(new_images)\n",
    "fig, axs = plt.subplots(1, 5, figsize=(15, 10))\n",
    "fig.subplots_adjust(hspace = .2, wspace=.001)\n",
    "axs = axs.ravel()\n",
    "    \n",
    "for i in range(0, count):\n",
    "    image = new_images[i]\n",
    "    evaluated = inference[i]\n",
    "\n",
    "    axs[i].axis('off')\n",
    "    axs[i].set_title(sign_names[evaluated])\n",
    "    axs[i].imshow(image)\n"
   ]
  },
  {
   "cell_type": "markdown",
   "metadata": {
    "deletable": true,
    "editable": true
   },
   "source": [
    "### Analyze Performance"
   ]
  },
  {
   "cell_type": "code",
   "execution_count": null,
   "metadata": {
    "collapsed": true,
    "deletable": true,
    "editable": true
   },
   "outputs": [],
   "source": [
    "### Calculate the accuracy for these 5 new images. \n",
    "### For example, if the model predicted 1 out of 5 signs correctly, it's 20% accurate on these new images."
   ]
  },
  {
   "cell_type": "markdown",
   "metadata": {
    "deletable": true,
    "editable": true
   },
   "source": [
    "Analysis: The accuracy of the prediction for the above 5 new images is 80%. The 4th image is not available in the German traffic signs set which we used in this project. And to be fair, the predected sign (Dangerous curve to the left) is probably one of the most similar sign or even maybe the most similar sign to this unfamiliar sign to the network.\n"
   ]
  },
  {
   "cell_type": "markdown",
   "metadata": {
    "deletable": true,
    "editable": true
   },
   "source": [
    "### Output Top 5 Softmax Probabilities For Each Image Found on the Web"
   ]
  },
  {
   "cell_type": "markdown",
   "metadata": {
    "deletable": true,
    "editable": true
   },
   "source": [
    "For each of the new images, print out the model's softmax probabilities to show the **certainty** of the model's predictions (limit the output to the top 5 probabilities for each image). [`tf.nn.top_k`](https://www.tensorflow.org/versions/r0.12/api_docs/python/nn.html#top_k) could prove helpful here. \n",
    "\n",
    "The example below demonstrates how tf.nn.top_k can be used to find the top k predictions for each image.\n",
    "\n",
    "`tf.nn.top_k` will return the values and indices (class ids) of the top k predictions. So if k=3, for each sign, it'll return the 3 largest probabilities (out of a possible 43) and the correspoding class ids.\n",
    "\n",
    "Take this numpy array as an example. The values in the array represent predictions. The array contains softmax probabilities for five candidate images with six possible classes. `tk.nn.top_k` is used to choose the three classes with the highest probability:\n",
    "\n",
    "```\n",
    "# (5, 6) array\n",
    "a = np.array([[ 0.24879643,  0.07032244,  0.12641572,  0.34763842,  0.07893497,\n",
    "         0.12789202],\n",
    "       [ 0.28086119,  0.27569815,  0.08594638,  0.0178669 ,  0.18063401,\n",
    "         0.15899337],\n",
    "       [ 0.26076848,  0.23664738,  0.08020603,  0.07001922,  0.1134371 ,\n",
    "         0.23892179],\n",
    "       [ 0.11943333,  0.29198961,  0.02605103,  0.26234032,  0.1351348 ,\n",
    "         0.16505091],\n",
    "       [ 0.09561176,  0.34396535,  0.0643941 ,  0.16240774,  0.24206137,\n",
    "         0.09155967]])\n",
    "```\n",
    "\n",
    "Running it through `sess.run(tf.nn.top_k(tf.constant(a), k=3))` produces:\n",
    "\n",
    "```\n",
    "TopKV2(values=array([[ 0.34763842,  0.24879643,  0.12789202],\n",
    "       [ 0.28086119,  0.27569815,  0.18063401],\n",
    "       [ 0.26076848,  0.23892179,  0.23664738],\n",
    "       [ 0.29198961,  0.26234032,  0.16505091],\n",
    "       [ 0.34396535,  0.24206137,  0.16240774]]), indices=array([[3, 0, 5],\n",
    "       [0, 1, 4],\n",
    "       [0, 5, 1],\n",
    "       [1, 3, 5],\n",
    "       [1, 4, 3]], dtype=int32))\n",
    "```\n",
    "\n",
    "Looking just at the first row we get `[ 0.34763842,  0.24879643,  0.12789202]`, you can confirm these are the 3 largest probabilities in `a`. You'll also notice `[3, 0, 5]` are the corresponding indices."
   ]
  },
  {
   "cell_type": "code",
   "execution_count": 26,
   "metadata": {
    "collapsed": false,
    "deletable": true,
    "editable": true
   },
   "outputs": [
    {
     "name": "stdout",
     "output_type": "stream",
     "text": [
      "TopKV2(values=array([[  1.00000000e+00,   0.00000000e+00,   0.00000000e+00,\n",
      "          0.00000000e+00,   0.00000000e+00],\n",
      "       [  1.00000000e+00,   0.00000000e+00,   0.00000000e+00,\n",
      "          0.00000000e+00,   0.00000000e+00],\n",
      "       [  1.00000000e+00,   1.22923447e-35,   0.00000000e+00,\n",
      "          0.00000000e+00,   0.00000000e+00],\n",
      "       [  1.00000000e+00,   2.19494109e-16,   5.12743414e-30,\n",
      "          1.35069012e-33,   3.80915707e-34],\n",
      "       [  1.00000000e+00,   0.00000000e+00,   0.00000000e+00,\n",
      "          0.00000000e+00,   0.00000000e+00]], dtype=float32), indices=array([[17,  0,  1,  2,  3],\n",
      "       [12,  0,  1,  2,  3],\n",
      "       [ 9, 41,  0,  1,  2],\n",
      "       [19, 35,  9, 25, 36],\n",
      "       [13,  0,  1,  2,  3]], dtype=int32))\n"
     ]
    }
   ],
   "source": [
    "### Print out the top five softmax probabilities for the predictions on the German traffic sign images found on the web. \n",
    "### Feel free to use as many code cells as needed.\n",
    "\n",
    "\n",
    "with tf.Session() as sess:\n",
    "    saver.restore(sess, tf.train.latest_checkpoint('.'))\n",
    "    \n",
    "    print(sess.run( tf.nn.top_k(tf.nn.softmax(logits), 5), feed_dict={x: new_images_preprocessed}))\n",
    "    top_k_vals, top_k_idxs = sess.run( tf.nn.top_k(tf.nn.softmax(logits), 5), feed_dict={x: new_images_preprocessed})\n",
    "    \n",
    "def display_pred_certainty(image, top_k_val, top_k_idx):\n",
    "    print('Top 5 predictions for the following image (prediction: probability)')\n",
    "    # Convert top k indices into strings\n",
    "    top_k_pred = [sign_names[idx] for idx in top_k_idx]\n",
    "    \n",
    "    \n",
    "    plt.imshow(image)\n",
    "    plt.show()\n",
    "    \n",
    "    for i in range(5):\n",
    "        print('%s: %.2f%%' % (top_k_pred[i].replace('\\n', ''), top_k_val[i] * 100)) \n"
   ]
  },
  {
   "cell_type": "code",
   "execution_count": 27,
   "metadata": {
    "collapsed": false,
    "deletable": true,
    "editable": true
   },
   "outputs": [
    {
     "name": "stdout",
     "output_type": "stream",
     "text": [
      "Top 5 predictions for the following image (prediction: probability)\n"
     ]
    },
    {
     "data": {
      "image/png": "[encoded data removed]",
      "text/plain": [
       "<matplotlib.figure.Figure at 0x7fdffc0193c8>"
      ]
     },
     "metadata": {},
     "output_type": "display_data"
    },
    {
     "name": "stdout",
     "output_type": "stream",
     "text": [
      "No entry: 100.00%\n",
      "Speed limit (20km/h): 0.00%\n",
      "Speed limit (30km/h): 0.00%\n",
      "Speed limit (50km/h): 0.00%\n",
      "Speed limit (60km/h): 0.00%\n"
     ]
    }
   ],
   "source": [
    "i = 0\n",
    "display_pred_certainty(new_images[i], top_k_vals[i], top_k_idxs[i])\n",
    "\n"
   ]
  },
  {
   "cell_type": "code",
   "execution_count": 28,
   "metadata": {
    "collapsed": false,
    "deletable": true,
    "editable": true
   },
   "outputs": [
    {
     "name": "stdout",
     "output_type": "stream",
     "text": [
      "Top 5 predictions for the following image (prediction: probability)\n"
     ]
    },
    {
     "data": {
      "image/png": "[encoded data removed]",
      "text/plain": [
       "<matplotlib.figure.Figure at 0x7fdff45caf60>"
      ]
     },
     "metadata": {},
     "output_type": "display_data"
    },
    {
     "name": "stdout",
     "output_type": "stream",
     "text": [
      "Priority road: 100.00%\n",
      "Speed limit (20km/h): 0.00%\n",
      "Speed limit (30km/h): 0.00%\n",
      "Speed limit (50km/h): 0.00%\n",
      "Speed limit (60km/h): 0.00%\n"
     ]
    }
   ],
   "source": [
    "i = 1\n",
    "display_pred_certainty(new_images[i], top_k_vals[i], top_k_idxs[i])\n",
    "\n",
    "\n"
   ]
  },
  {
   "cell_type": "code",
   "execution_count": 29,
   "metadata": {
    "collapsed": false,
    "deletable": true,
    "editable": true
   },
   "outputs": [
    {
     "name": "stdout",
     "output_type": "stream",
     "text": [
      "Top 5 predictions for the following image (prediction: probability)\n"
     ]
    },
    {
     "data": {
      "image/png": "[encoded data removed]",
      "text/plain": [
       "<matplotlib.figure.Figure at 0x7fdff45ee860>"
      ]
     },
     "metadata": {},
     "output_type": "display_data"
    },
    {
     "name": "stdout",
     "output_type": "stream",
     "text": [
      "No passing: 100.00%\n",
      "End of no passing: 0.00%\n",
      "Speed limit (20km/h): 0.00%\n",
      "Speed limit (30km/h): 0.00%\n",
      "Speed limit (50km/h): 0.00%\n"
     ]
    }
   ],
   "source": [
    "i = 2\n",
    "display_pred_certainty(new_images[i], top_k_vals[i], top_k_idxs[i])\n",
    "\n"
   ]
  },
  {
   "cell_type": "code",
   "execution_count": 30,
   "metadata": {
    "collapsed": false,
    "deletable": true,
    "editable": true
   },
   "outputs": [
    {
     "name": "stdout",
     "output_type": "stream",
     "text": [
      "Top 5 predictions for the following image (prediction: probability)\n"
     ]
    },
    {
     "data": {
      "image/png": "[encoded data removed]",
      "text/plain": [
       "<matplotlib.figure.Figure at 0x7fdff46c8198>"
      ]
     },
     "metadata": {},
     "output_type": "display_data"
    },
    {
     "name": "stdout",
     "output_type": "stream",
     "text": [
      "Dangerous curve to the left: 100.00%\n",
      "Ahead only: 0.00%\n",
      "No passing: 0.00%\n",
      "Road work: 0.00%\n",
      "Go straight or right: 0.00%\n"
     ]
    }
   ],
   "source": [
    "i = 3\n",
    "display_pred_certainty(new_images[i], top_k_vals[i], top_k_idxs[i])\n",
    "\n"
   ]
  },
  {
   "cell_type": "code",
   "execution_count": 31,
   "metadata": {
    "collapsed": false,
    "deletable": true,
    "editable": true
   },
   "outputs": [
    {
     "name": "stdout",
     "output_type": "stream",
     "text": [
      "Top 5 predictions for the following image (prediction: probability)\n"
     ]
    },
    {
     "data": {
      "image/png": "[encoded data removed]",
      "text/plain": [
       "<matplotlib.figure.Figure at 0x7fdff40b90b8>"
      ]
     },
     "metadata": {},
     "output_type": "display_data"
    },
    {
     "name": "stdout",
     "output_type": "stream",
     "text": [
      "Yield: 100.00%\n",
      "Speed limit (20km/h): 0.00%\n",
      "Speed limit (30km/h): 0.00%\n",
      "Speed limit (50km/h): 0.00%\n",
      "Speed limit (60km/h): 0.00%\n"
     ]
    }
   ],
   "source": [
    "i = 4\n",
    "display_pred_certainty(new_images[i], top_k_vals[i], top_k_idxs[i])\n",
    "\n"
   ]
  },
  {
   "cell_type": "markdown",
   "metadata": {
    "deletable": true,
    "editable": true
   },
   "source": [
    "---\n",
    "\n",
    "## Step 4: Visualize the Neural Network's State with Test Images\n",
    "\n",
    " This Section is not required to complete but acts as an additional excersise for understaning the output of a neural network's weights. While neural networks can be a great learning device they are often referred to as a black box. We can understand what the weights of a neural network look like better by plotting their feature maps. After successfully training your neural network you can see what it's feature maps look like by plotting the output of the network's weight layers in response to a test stimuli image. From these plotted feature maps, it's possible to see what characteristics of an image the network finds interesting. For a sign, maybe the inner network feature maps react with high activation to the sign's boundary outline or to the contrast in the sign's painted symbol.\n",
    "\n",
    " Provided for you below is the function code that allows you to get the visualization output of any tensorflow weight layer you want. The inputs to the function should be a stimuli image, one used during training or a new one you provided, and then the tensorflow variable name that represents the layer's state during the training process, for instance if you wanted to see what the [LeNet lab's](https://classroom.udacity.com/nanodegrees/nd013/parts/fbf77062-5703-404e-b60c-95b78b2f3f9e/modules/6df7ae49-c61c-4bb2-a23e-6527e69209ec/lessons/601ae704-1035-4287-8b11-e2c2716217ad/concepts/d4aca031-508f-4e0b-b493-e7b706120f81) feature maps looked like for it's second convolutional layer you could enter conv2 as the tf_activation variable.\n",
    "\n",
    "For an example of what feature map outputs look like, check out NVIDIA's results in their paper [End-to-End Deep Learning for Self-Driving Cars](https://devblogs.nvidia.com/parallelforall/deep-learning-self-driving-cars/) in the section Visualization of internal CNN State. NVIDIA was able to show that their network's inner weights had high activations to road boundary lines by comparing feature maps from an image with a clear path to one without. Try experimenting with a similar test to show that your trained network's weights are looking for interesting features, whether it's looking at differences in feature maps from images with or without a sign, or even what feature maps look like in a trained network vs a completely untrained one on the same sign image.\n",
    "\n",
    "<figure>\n",
    " <img src=\"visualize_cnn.png\" width=\"380\" alt=\"Combined Image\" />\n",
    " <figcaption>\n",
    " <p></p> \n",
    " <p style=\"text-align: center;\"> Your output should look something like this (above)</p> \n",
    " </figcaption>\n",
    "</figure>\n",
    " <p></p> \n"
   ]
  },
  {
   "cell_type": "code",
   "execution_count": 35,
   "metadata": {
    "collapsed": true,
    "deletable": true,
    "editable": true
   },
   "outputs": [],
   "source": [
    "### Visualize your network's feature maps here.\n",
    "### Feel free to use as many code cells as needed.\n",
    "\n",
    "# image_input: the test image being fed into the network to produce the feature maps\n",
    "# tf_activation: should be a tf variable name used during your training procedure that represents the calculated state of a specific weight layer\n",
    "# activation_min/max: can be used to view the activation contrast in more detail, by default matplot sets min and max to the actual min and max values of the output\n",
    "# plt_num: used to plot out multiple different weight feature map sets on the same block, just extend the plt number for each new feature map entry\n",
    "\n",
    "def outputFeatureMap(image_input, tf_activation, activation_min=-1, activation_max=-1 ,plt_num=1):\n",
    "    # Here make sure to preprocess your image_input in a way your network expects\n",
    "    # with size, normalization, ect if needed\n",
    "    # image_input =\n",
    "    # Note: x should be the same name as your network's tensorflow data placeholder variable\n",
    "    # If you get an error tf_activation is not defined it maybe having trouble accessing the variable from inside a function\n",
    "    activation = tf_activation.eval(session=sess,feed_dict={x : image_input})\n",
    "    featuremaps = activation.shape[3]\n",
    "    plt.figure(plt_num, figsize=(15,15))\n",
    "    for featuremap in range(featuremaps):\n",
    "        plt.subplot(6,8, featuremap+1) # sets the number of feature maps to show on each row and column\n",
    "        plt.title('FeatureMap ' + str(featuremap)) # displays the feature map number\n",
    "        if activation_min != -1 & activation_max != -1:\n",
    "            plt.imshow(activation[0,:,:, featuremap], interpolation=\"nearest\", vmin =activation_min, vmax=activation_max, cmap=\"gray\")\n",
    "        elif activation_max != -1:\n",
    "            plt.imshow(activation[0,:,:, featuremap], interpolation=\"nearest\", vmax=activation_max, cmap=\"gray\")\n",
    "        elif activation_min !=-1:\n",
    "            plt.imshow(activation[0,:,:, featuremap], interpolation=\"nearest\", vmin=activation_min, cmap=\"gray\")\n",
    "        else:\n",
    "            plt.imshow(activation[0,:,:, featuremap], interpolation=\"nearest\", cmap=\"gray\")"
   ]
  },
  {
   "cell_type": "code",
   "execution_count": 61,
   "metadata": {
    "collapsed": false,
    "deletable": true,
    "editable": true
   },
   "outputs": [
    {
     "ename": "NameError",
     "evalue": "name 'conv1_W' is not defined",
     "output_type": "error",
     "traceback": [
      "\u001b[0;31m---------------------------------------------------------------------------\u001b[0m",
      "\u001b[0;31mNameError\u001b[0m                                 Traceback (most recent call last)",
      "\u001b[0;32m<ipython-input-61-715c6f96aba6>\u001b[0m in \u001b[0;36m<module>\u001b[0;34m()\u001b[0m\n\u001b[1;32m      2\u001b[0m \u001b[0;31m# If you get an error tf_activation is not defined it maybe having trouble accessing the variable from inside a function\u001b[0m\u001b[0;34m\u001b[0m\u001b[0;34m\u001b[0m\u001b[0m\n\u001b[1;32m      3\u001b[0m \u001b[0;31m# which is exactly what happened here!\u001b[0m\u001b[0;34m\u001b[0m\u001b[0;34m\u001b[0m\u001b[0m\n\u001b[0;32m----> 4\u001b[0;31m \u001b[0moutputFeatureMap\u001b[0m\u001b[0;34m(\u001b[0m\u001b[0mnew_images_preprocessed\u001b[0m\u001b[0;34m[\u001b[0m\u001b[0;36m0\u001b[0m\u001b[0;34m]\u001b[0m\u001b[0;34m,\u001b[0m \u001b[0mconv1_W\u001b[0m \u001b[0;34m)\u001b[0m\u001b[0;34m\u001b[0m\u001b[0m\n\u001b[0m",
      "\u001b[0;31mNameError\u001b[0m: name 'conv1_W' is not defined"
     ]
    }
   ],
   "source": [
    "# Note: x should be the same name as your network's tensorflow data placeholder variable\n",
    "# If you get an error tf_activation is not defined it maybe having trouble accessing the variable from inside a function\n",
    "# which is exactly what happened here!\n",
    "outputFeatureMap(new_images_preprocessed[0], conv1_W )"
   ]
  },
  {
   "cell_type": "markdown",
   "metadata": {
    "deletable": true,
    "editable": true
   },
   "source": [
    "### Question 9\n",
    "\n",
    "Discuss how you used the visual output of your trained network's feature maps to show that it had learned to look for interesting characteristics in traffic sign images\n"
   ]
  },
  {
   "cell_type": "markdown",
   "metadata": {
    "deletable": true,
    "editable": true
   },
   "source": [
    "**Answer:** Please refer to the project writeup for details about this question."
   ]
  },
  {
   "cell_type": "markdown",
   "metadata": {
    "deletable": true,
    "editable": true
   },
   "source": [
    "> **Note**: Once you have completed all of the code implementations and successfully answered each question above, you may finalize your work by exporting the iPython Notebook as an HTML document. You can do this by using the menu above and navigating to  \\n\",\n",
    "    \"**File -> Download as -> HTML (.html)**. Include the finished document along with this notebook as your submission."
   ]
  },
  {
   "cell_type": "markdown",
   "metadata": {
    "deletable": true,
    "editable": true
   },
   "source": [
    "### Project Writeup\n",
    "\n",
    "Once you have completed the code implementation, document your results in a project writeup using this [template](https://github.com/udacity/CarND-Traffic-Sign-Classifier-Project/blob/master/writeup_template.md) as a guide. The writeup can be in a markdown or pdf file. "
   ]
  }
 ],
 "metadata": {
  "anaconda-cloud": {},
  "kernelspec": {
   "display_name": "Python 3",
   "language": "python",
   "name": "python3"
  },
  "language_info": {
   "codemirror_mode": {
    "name": "ipython",
    "version": 3
   },
   "file_extension": ".py",
   "mimetype": "text/x-python",
   "name": "python",
   "nbconvert_exporter": "python",
   "pygments_lexer": "ipython3",
   "version": "3.5.2"
  },
  "widgets": {
   "state": {},
   "version": "1.1.2"
  }
 },
 "nbformat": 4,
 "nbformat_minor": 1
}
